{
 "cells": [
  {
   "cell_type": "code",
   "execution_count": 1,
   "metadata": {},
   "outputs": [],
   "source": [
    "import tensorflow as tf\n",
    "from tensorflow import keras\n",
    "\n",
    "# Extra code so Juypter doesn't crash on mac os\n",
    "import os\n",
    "os.environ['KMP_DUPLICATE_LIB_OK']='True'"
   ]
  },
  {
   "cell_type": "code",
   "execution_count": 2,
   "metadata": {},
   "outputs": [],
   "source": [
    "from tensorflow.keras import layers\n",
    "import numpy as np"
   ]
  },
  {
   "cell_type": "code",
   "execution_count": 3,
   "metadata": {},
   "outputs": [
    {
     "name": "stdout",
     "output_type": "stream",
     "text": [
      "Model: \"sequential\"\n",
      "_________________________________________________________________\n",
      "Layer (type)                 Output Shape              Param #   \n",
      "=================================================================\n",
      "dense (Dense)                (None, 64)                2112      \n",
      "_________________________________________________________________\n",
      "dense_1 (Dense)              (None, 64)                4160      \n",
      "_________________________________________________________________\n",
      "dense_2 (Dense)              (None, 10)                650       \n",
      "=================================================================\n",
      "Total params: 6,922\n",
      "Trainable params: 6,922\n",
      "Non-trainable params: 0\n",
      "_________________________________________________________________\n"
     ]
    }
   ],
   "source": [
    "model = tf.keras.Sequential()\n",
    "model.add(layers.Dense(64, activation='relu', input_shape=(32,)))\n",
    "model.add(layers.Dense(64, activation='relu'))\n",
    "model.add(layers.Dense(10, activation='softmax'))\n",
    "\n",
    "model.compile(optimizer=tf.keras.optimizers.RMSprop(0.01),\n",
    "              loss=tf.keras.losses.CategoricalCrossentropy(from_logits=True),\n",
    "              metrics=['accuracy'])\n",
    "model.summary()"
   ]
  },
  {
   "cell_type": "markdown",
   "metadata": {},
   "source": [
    "## Eager Execution"
   ]
  },
  {
   "cell_type": "code",
   "execution_count": 4,
   "metadata": {},
   "outputs": [],
   "source": [
    "# Makes tensorflow more like numpy. \n",
    "# Call operations directly vs making a computation graph\n",
    "\n",
    "# tf.math operations converts python objects, or numpy arrays to tensors\n",
    "x = [[2.]]\n",
    "m = tf.matmul(x,x) \n",
    "# print(m)\n",
    "\n",
    "x = np.ones((2,2))\n",
    "m = tf.matmul(x,x) \n",
    "# print(m)\n",
    "\n",
    "# use the .numpy() method to return tensor value as numpy array\n",
    "m = m.numpy()\n",
    "# print(m)"
   ]
  },
  {
   "cell_type": "code",
   "execution_count": 5,
   "metadata": {},
   "outputs": [
    {
     "name": "stdout",
     "output_type": "stream",
     "text": [
      "tf.Tensor(\n",
      "[[1 2]\n",
      " [3 4]], shape=(2, 2), dtype=int32)\n",
      "tf.Tensor(\n",
      "[[2 3]\n",
      " [4 5]], shape=(2, 2), dtype=int32)\n",
      "tf.Tensor(\n",
      "[[2 3]\n",
      " [4 5]], shape=(2, 2), dtype=int32)\n",
      "tf.Tensor(\n",
      "[[ 4  9]\n",
      " [16 25]], shape=(2, 2), dtype=int32)\n",
      "tf.Tensor(\n",
      "[[16 21]\n",
      " [28 37]], shape=(2, 2), dtype=int32)\n"
     ]
    }
   ],
   "source": [
    "#define constant\n",
    "a = tf.constant([[1, 2],[3, 4]])\n",
    "# a = tf.Tensor([[1, 2],[3, 4]])\n",
    "print(a)\n",
    "\n",
    "# broadcasting\n",
    "\n",
    "b = tf.add(a,1)\n",
    "print(b)\n",
    "\n",
    "# operator overloading\n",
    "\n",
    "a = a + 1\n",
    "print(b)\n",
    "print(a * b)\n",
    "print(tf.matmul(a,b))"
   ]
  },
  {
   "cell_type": "code",
   "execution_count": 6,
   "metadata": {},
   "outputs": [
    {
     "name": "stdout",
     "output_type": "stream",
     "text": [
      "10\n",
      "10\n",
      "11\n",
      "11\n",
      "11\n"
     ]
    }
   ],
   "source": [
    "# dynamic flow control\n",
    "\n",
    "def dyn_function(x):\n",
    "    \n",
    "    counter = tf.constant(0)\n",
    "    x = tf.constant(x)\n",
    "    for i in range(1, x.numpy()+1):\n",
    "        if i%2==0:\n",
    "            print(x.numpy())\n",
    "        elif i%5==0:\n",
    "            x += 1\n",
    "        else:\n",
    "            continue\n",
    "            \n",
    "dyn_function(10)"
   ]
  },
  {
   "cell_type": "code",
   "execution_count": 7,
   "metadata": {},
   "outputs": [
    {
     "name": "stdout",
     "output_type": "stream",
     "text": [
      "tf.Tensor([[2.]], shape=(1, 1), dtype=float32)\n",
      "tf.Tensor([[2.]], shape=(1, 1), dtype=float32)\n"
     ]
    }
   ],
   "source": [
    "# Gradient Tape\n",
    "\n",
    "w = tf.Variable([[1.0]]) # as suppose to a constant\n",
    "with tf.GradientTape(persistent=True) as tape:\n",
    "    loss = w*w\n",
    "    \n",
    "grad = tape.gradient(loss,w)\n",
    "print(grad)\n",
    "try: \n",
    "    print(tape.gradient(loss,w))\n",
    "except:\n",
    "    print(\"You can only use a gradient tape once\")\n",
    "    \n",
    "    "
   ]
  },
  {
   "cell_type": "code",
   "execution_count": 8,
   "metadata": {},
   "outputs": [
    {
     "name": "stdout",
     "output_type": "stream",
     "text": [
      "None\n"
     ]
    }
   ],
   "source": [
    "w = tf.constant([[1.0]]) # does not automatically track gradient for constant\n",
    "with tf.GradientTape() as tape:\n",
    "    loss = w*w\n",
    "    \n",
    "grad = tape.gradient(loss,w)\n",
    "print(grad)"
   ]
  },
  {
   "cell_type": "code",
   "execution_count": 9,
   "metadata": {},
   "outputs": [],
   "source": [
    "# Train a model\n",
    "\n",
    "(mnist_images, mnist_labels), _ = tf.keras.datasets.mnist.load_data()\n",
    "\n",
    "mnist_images = mnist_images[:1000]\n",
    "mnist_labels = mnist_labels[:1000]\n",
    "\n",
    "dataset = tf.data.Dataset.from_tensor_slices(\n",
    "  (tf.cast(mnist_images[...,tf.newaxis]/255, tf.float32),\n",
    "   tf.cast(mnist_labels,tf.int64)))\n",
    "dataset = dataset.shuffle(1000).batch(32, drop_remainder=True)"
   ]
  },
  {
   "cell_type": "code",
   "execution_count": null,
   "metadata": {},
   "outputs": [],
   "source": []
  },
  {
   "cell_type": "code",
   "execution_count": 10,
   "metadata": {},
   "outputs": [],
   "source": [
    "mnist_model = tf.keras.Sequential([\n",
    "  tf.keras.layers.Conv2D(16,[3,3], activation='relu',\n",
    "                         input_shape=(None, None, 1)),\n",
    "  tf.keras.layers.Conv2D(16,[3,3], activation='relu'),\n",
    "  tf.keras.layers.GlobalAveragePooling2D(),\n",
    "  tf.keras.layers.Dense(10)\n",
    "])"
   ]
  },
  {
   "cell_type": "code",
   "execution_count": 11,
   "metadata": {},
   "outputs": [
    {
     "name": "stdout",
     "output_type": "stream",
     "text": [
      "Logits:  [[-0.00091014 -0.00527875 -0.00593279 -0.01145211 -0.00959605  0.01858576\n",
      "   0.00415484  0.00820452  0.01311629 -0.01303012]]\n"
     ]
    }
   ],
   "source": [
    "for images,labels in dataset.take(1):\n",
    "  print(\"Logits: \", mnist_model(images[0:1]).numpy())\n"
   ]
  },
  {
   "cell_type": "code",
   "execution_count": 12,
   "metadata": {},
   "outputs": [
    {
     "name": "stdout",
     "output_type": "stream",
     "text": [
      "None\n"
     ]
    }
   ],
   "source": [
    "x = tf.debugging.Assert(1==1,[2])\n",
    "print(x)"
   ]
  },
  {
   "cell_type": "code",
   "execution_count": 13,
   "metadata": {},
   "outputs": [],
   "source": [
    "optimizer = tf.keras.optimizers.Adam()\n",
    "loss_object = tf.keras.losses.SparseCategoricalCrossentropy(from_logits=True)\n",
    "\n",
    "loss_history = []"
   ]
  },
  {
   "cell_type": "code",
   "execution_count": 14,
   "metadata": {},
   "outputs": [],
   "source": [
    "def train_step(images, labels):\n",
    "    with tf.GradientTape() as tape:\n",
    "        logits = mnist_model(images, training=True)\n",
    "        \n",
    "        tf.debugging.assert_equal(logits.shape,(32,10))\n",
    "        \n",
    "        loss_value = loss_object(labels,logits)\n",
    "        \n",
    "    loss_history.append(loss_value.numpy().mean())\n",
    "    grads = tape.gradient(loss_value, mnist_model.trainable_variables)\n",
    "    optimizer.apply_gradients(zip(grads,mnist_model.trainable_variables))\n",
    "    "
   ]
  },
  {
   "cell_type": "code",
   "execution_count": 15,
   "metadata": {},
   "outputs": [],
   "source": [
    "def train(epochs):\n",
    "    for epoch in range(epochs):\n",
    "        for (batch,(images,labels)) in enumerate(dataset):\n",
    "            train_step(images, labels)\n",
    "#             print(batch)\n",
    "            \n",
    "        print(\"Epoch {} finished\".format(epoch))"
   ]
  },
  {
   "cell_type": "code",
   "execution_count": 16,
   "metadata": {},
   "outputs": [
    {
     "name": "stdout",
     "output_type": "stream",
     "text": [
      "Epoch 0 finished\n",
      "Epoch 1 finished\n",
      "Epoch 2 finished\n"
     ]
    }
   ],
   "source": [
    "train(epochs = 3)"
   ]
  },
  {
   "cell_type": "code",
   "execution_count": 17,
   "metadata": {},
   "outputs": [
    {
     "data": {
      "text/plain": [
       "Text(0, 0.5, 'Loss [entropy]')"
      ]
     },
     "execution_count": 17,
     "metadata": {},
     "output_type": "execute_result"
    },
    {
     "data": {
      "image/png": "[encoded data removed]",
      "text/plain": [
       "<Figure size 432x288 with 1 Axes>"
      ]
     },
     "metadata": {
      "needs_background": "light"
     },
     "output_type": "display_data"
    }
   ],
   "source": [
    "import matplotlib.pyplot as plt\n",
    "\n",
    "plt.plot(loss_history)\n",
    "plt.xlabel('Batch #')\n",
    "plt.ylabel('Loss [entropy]')"
   ]
  },
  {
   "cell_type": "code",
   "execution_count": 18,
   "metadata": {},
   "outputs": [],
   "source": [
    "# Custom Model\n",
    "\n",
    "class Linear(tf.keras.Model):\n",
    "    def __init__(self):\n",
    "        super(Linear, self).__init__()\n",
    "        self.W = tf.Variable(5.,name=\"weight\")\n",
    "        self.B = tf.Variable(10.,name=\"bias\")\n",
    "    def call(self,inputs):\n",
    "        return inputs * self.W + self.B"
   ]
  },
  {
   "cell_type": "code",
   "execution_count": 33,
   "metadata": {},
   "outputs": [],
   "source": [
    "NUM_EXAMPLES = 2000\n",
    "training_inputs = tf.random.normal([NUM_EXAMPLES])\n",
    "noise = tf.random.normal([NUM_EXAMPLES])\n",
    "training_outputs = training_inputs * 3 + 2 + noise"
   ]
  },
  {
   "cell_type": "code",
   "execution_count": 34,
   "metadata": {},
   "outputs": [],
   "source": [
    "def loss(model,inputs,targets):\n",
    "    error= model(inputs) - targets\n",
    "    return tf.reduce_mean(tf.square(error))\n",
    "\n",
    "def grad(model,inputs,targets):\n",
    "    with tf.GradientTape() as tape:\n",
    "        loss_value = loss(model, inputs, targets)\n",
    "    return tape.gradient(loss_value,[model.W, model.B])\n"
   ]
  },
  {
   "cell_type": "code",
   "execution_count": 35,
   "metadata": {},
   "outputs": [
    {
     "name": "stdout",
     "output_type": "stream",
     "text": [
      "Initial loss: 70.254\n",
      "Loss at step 000: 67.465\n",
      "Loss at step 020: 30.218\n",
      "Loss at step 040: 13.855\n",
      "Loss at step 060: 6.663\n",
      "Loss at step 080: 3.500\n",
      "Loss at step 100: 2.108\n",
      "Loss at step 120: 1.495\n",
      "Loss at step 140: 1.225\n",
      "Loss at step 160: 1.106\n",
      "Loss at step 180: 1.053\n",
      "Loss at step 200: 1.030\n",
      "Loss at step 220: 1.020\n",
      "Loss at step 240: 1.015\n",
      "Loss at step 260: 1.013\n",
      "Loss at step 280: 1.012\n"
     ]
    }
   ],
   "source": [
    "# Create the Model\n",
    "\n",
    "model = Linear()\n",
    "optimizer = tf.keras.optimizers.SGD(learning_rate=0.01)\n",
    "print(\"Initial loss: {:.3f}\".format(loss(model, training_inputs, training_outputs)))\n",
    "steps = 300\n",
    "for i in range(steps):\n",
    "  grads = grad(model, training_inputs, training_outputs)\n",
    "  optimizer.apply_gradients(zip(grads, [model.W, model.B]))\n",
    "  if i % 20 == 0:\n",
    "    print(\"Loss at step {:03d}: {:.3f}\".format(i, loss(model, training_inputs, training_outputs)))\n",
    "\n"
   ]
  },
  {
   "cell_type": "code",
   "execution_count": 40,
   "metadata": {},
   "outputs": [],
   "source": [
    "# With logging\n",
    "\n",
    "logdir = \"tb/train\"\n",
    "writer = tf.summary.create_file_writer(logdir)"
   ]
  },
  {
   "cell_type": "code",
   "execution_count": 42,
   "metadata": {},
   "outputs": [
    {
     "name": "stdout",
     "output_type": "stream",
     "text": [
      "Loss at step 000: 1.012\n",
      "Loss at step 020: 1.012\n",
      "Loss at step 040: 1.012\n",
      "Loss at step 060: 1.012\n",
      "Loss at step 080: 1.012\n",
      "Loss at step 100: 1.012\n",
      "Loss at step 120: 1.012\n",
      "Loss at step 140: 1.012\n",
      "Loss at step 160: 1.012\n",
      "Loss at step 180: 1.012\n",
      "Loss at step 200: 1.012\n",
      "Loss at step 220: 1.012\n",
      "Loss at step 240: 1.012\n",
      "Loss at step 260: 1.012\n",
      "Loss at step 280: 1.012\n"
     ]
    }
   ],
   "source": [
    "for i in range(steps):\n",
    "    grads = grad(model, training_inputs, training_outputs)\n",
    "    optimizer.apply_gradients(zip(grads, [model.W, model.B]))\n",
    "    loss_val = loss(model, training_inputs, training_outputs)\n",
    "    with writer.as_default():\n",
    "        tf.summary.scalar('loss',loss_val,step=i)\n",
    "    if i % 20 == 0:\n",
    "        print(\"Loss at step {:03d}: {:.3f}\".format(i, loss_val))\n"
   ]
  },
  {
   "cell_type": "markdown",
   "metadata": {},
   "source": [
    "## Variables"
   ]
  },
  {
   "cell_type": "code",
   "execution_count": 56,
   "metadata": {},
   "outputs": [
    {
     "name": "stdout",
     "output_type": "stream",
     "text": [
      "<tf.Variable 'Variable:0' shape=() dtype=int32, numpy=0>\n",
      "tf.Tensor(0, shape=(), dtype=int32)\n",
      "tf.Tensor(1, shape=(), dtype=int32)\n",
      "W is no longer a variable\n",
      "tf.Tensor(2, shape=(), dtype=int32)\n",
      "tf.Tensor(4, shape=(), dtype=int32)\n"
     ]
    }
   ],
   "source": [
    "v = tf.Variable(0)\n",
    "print(v)\n",
    "print(v.read_value())\n",
    "w = v + 1\n",
    "print(w)\n",
    "try:\n",
    "    print(w.read_value())\n",
    "except:\n",
    "    print(\"W is no longer a variable\")\n",
    "\n",
    "v.assign(2)\n",
    "print(v.read_value())\n",
    "\n",
    "v.assign_add(2)\n",
    "print(v.read_value())\n"
   ]
  },
  {
   "cell_type": "markdown",
   "metadata": {},
   "source": [
    "## Memory Gradient Test"
   ]
  },
  {
   "cell_type": "code",
   "execution_count": null,
   "metadata": {},
   "outputs": [],
   "source": [
    "memory = []\n"
   ]
  },
  {
   "cell_type": "code",
   "execution_count": 111,
   "metadata": {},
   "outputs": [
    {
     "name": "stdout",
     "output_type": "stream",
     "text": [
      "tf.Tensor(\n",
      "[[0.8953123  0.78257275 0.47685826]\n",
      " [0.05573949 0.6391835  0.5740697 ]\n",
      " [0.58783084 0.08771657 0.9548248 ]], shape=(3, 3), dtype=float32)\n",
      "tf.Tensor(\n",
      "[[1.]\n",
      " [1.]\n",
      " [1.]], shape=(3, 1), dtype=float32)\n",
      "tf.Tensor(\n",
      "[[3.693626  2.8078752 3.1692548]\n",
      " [3.664216  2.7784655 3.1398451]\n",
      " [4.1604958 3.2747452 3.6361248]], shape=(3, 3), dtype=float32)\n",
      "Calculated Grads\n",
      "3.693626\n",
      "Grad W_11\n",
      "One pass:  1.0\n",
      "Loop pass:  3.693626\n",
      "Loop pass (w/ tensors):  3.693626\n"
     ]
    }
   ],
   "source": [
    "x = tf.Variable(tf.ones([3,1]))\n",
    "W = tf.Variable(np.random.random((3,3)),dtype=\"float32\")\n",
    "\n",
    "print(W.read_value())\n",
    "print(x_test.read_value())\n",
    "\n",
    "def model(x):\n",
    "    return tf.matmul(W, x)\n",
    "\n",
    "with tf.GradientTape() as tape:\n",
    "    a = model(x)\n",
    "    b = model(a)\n",
    "\n",
    "#     print(y_1)\n",
    "    \n",
    "grads = tape.gradient(b,W)\n",
    "print(grads)\n",
    "\n",
    "print(\"Calculated Grads\")\n",
    "print(grads[0,0].numpy())\n",
    "print(\"Grad W_11\")\n",
    "print(\"One pass: \", x.numpy()[0,0])\n",
    "print(\"Loop pass: \", a.numpy()[0,0] + np.sum(W.numpy()[:,0]*x.numpy()[0,0]))\n",
    "val = a[0,0] + tf.reduce_sum(W[:,0]*x[0,0])\n",
    "print(\"Loop pass (w/ tensors): \", val.numpy())"
   ]
  }
 ],
 "metadata": {
  "kernelspec": {
   "display_name": "Python 3",
   "language": "python",
   "name": "python3"
  },
  "language_info": {
   "codemirror_mode": {
    "name": "ipython",
    "version": 3
   },
   "file_extension": ".py",
   "mimetype": "text/x-python",
   "name": "python",
   "nbconvert_exporter": "python",
   "pygments_lexer": "ipython3",
   "version": "3.7.5"
  }
 },
 "nbformat": 4,
 "nbformat_minor": 2
}
