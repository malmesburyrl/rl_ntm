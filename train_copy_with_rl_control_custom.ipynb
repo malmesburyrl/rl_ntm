{
 "cells": [
  {
   "cell_type": "code",
   "execution_count": 2,
   "metadata": {},
   "outputs": [],
   "source": [
    "#IPython magic to reload libraries\n",
    "%load_ext autoreload\n",
    "%autoreload 2\n",
    "\n",
    "# Extra code so Juypter doesn't crash on mac os\n",
    "import os\n",
    "os.environ['KMP_DUPLICATE_LIB_OK']='True'"
   ]
  },
  {
   "cell_type": "code",
   "execution_count": null,
   "metadata": {},
   "outputs": [],
   "source": []
  },
  {
   "cell_type": "code",
   "execution_count": 40,
   "metadata": {},
   "outputs": [],
   "source": [
    "import sys\n",
    "sys.path.insert(0, 'utils')  # noqa\n",
    "\n",
    "import numpy as np\n",
    "import gym\n",
    "import tasks\n",
    "import ntm\n",
    "import interfaces"
   ]
  },
  {
   "cell_type": "code",
   "execution_count": 88,
   "metadata": {},
   "outputs": [],
   "source": [
    "# Training Params\n",
    "train_iter = 1000\n",
    "batch_size = 1\n"
   ]
  },
  {
   "cell_type": "code",
   "execution_count": 89,
   "metadata": {},
   "outputs": [],
   "source": [
    "# Task\n",
    "string_len=5\n",
    "num_char = 5\n",
    "env = tasks.Copy(string_len=string_len, max_char=num_char)\n",
    "\n"
   ]
  },
  {
   "cell_type": "code",
   "execution_count": 228,
   "metadata": {},
   "outputs": [],
   "source": [
    "# Controller \n",
    "Controller = ntm.NTM(memory_vector_len=10, num_char=num_char, max_run_time=20)"
   ]
  },
  {
   "cell_type": "code",
   "execution_count": 229,
   "metadata": {},
   "outputs": [],
   "source": [
    "# #Over Fit on single char\n",
    "# output = Controller.run(tape_input=1, writes_left=1)\n",
    "# print(output)\n",
    "# Controller.update(output_target=4)"
   ]
  },
  {
   "cell_type": "code",
   "execution_count": 230,
   "metadata": {},
   "outputs": [],
   "source": [
    "# # Test RL training\n",
    "# output = Controller.run(tape_input=1, writes_left=1)\n",
    "# print(Controller.run_time)\n",
    "# print(Controller.run_time_left(1))\n",
    "# Controller.update_store(1, done=True)\n"
   ]
  },
  {
   "cell_type": "code",
   "execution_count": 231,
   "metadata": {},
   "outputs": [],
   "source": [
    "# print(Controller.run_time)"
   ]
  },
  {
   "cell_type": "code",
   "execution_count": null,
   "metadata": {},
   "outputs": [],
   "source": [
    "output_control_cmds = [\"no\",\"yes\"]\n",
    "input_control_cmds = {-1:\"left\",0:\"stay\",1:\"right\"}\n",
    "# input_control_cmds = [\"left\",\"stay\",\"right\"]\n",
    "int_to_char = [\"A\",\"B\",\"C\",\"D\",\"E\",\"F\",\"G\"]\n",
    "render_env = False\n",
    "for i in range(train_iter):\n",
    "# for i in range(1):\n",
    "\n",
    "    # Collect experince using current policy/controller\n",
    "    for j in range(batch_size):\n",
    "        \n",
    "        episode_steps = 0\n",
    "        observation, target, done, info = env.reset()\n",
    "        if render_env: env.render()\n",
    "\n",
    "        while True:\n",
    "            episode_steps += 1\n",
    "            \n",
    "            #Run RL-NTM controller and get outputs\n",
    "            outputs = Controller.run(tape_input=observation, writes_left=info)\n",
    "\n",
    "            output_content = outputs[0] # Which character to write (ignored if the above sub-action is 0) \n",
    "            output_control = outputs[1] #  Whether to write to the output tape [\"no\",\"yes\"] = [0,1]\n",
    "            input_control = outputs[2] # Direction to move the read head [\"left\",\"right\"] = [0,1]\n",
    "           \n",
    "            actions = (input_control, output_control, output_content)\n",
    "            \n",
    "            if render_env:\n",
    "                print(\"Policy - obs: {} action: {}, {}, {}\".format(int_to_char[observation],\n",
    "                      int_to_char[output_content],\n",
    "                      output_control_cmds[output_control],\n",
    "                      input_control_cmds[input_control]))\n",
    "\n",
    "            # target is the expected output for the action that was just taken\n",
    "            observation, target, done, info = env.step(actions)\n",
    "            if render_env: env.render()\n",
    "                \n",
    "            if output_control_cmds[output_control] == \"yes\":\n",
    "                Controller.update_store(output_target=target, done=done)\n",
    "                \n",
    "            if done:\n",
    "                done = False\n",
    "                break\n",
    "        "
   ]
  },
  {
   "cell_type": "code",
   "execution_count": null,
   "metadata": {},
   "outputs": [],
   "source": []
  },
  {
   "cell_type": "code",
   "execution_count": null,
   "metadata": {},
   "outputs": [],
   "source": []
  },
  {
   "cell_type": "code",
   "execution_count": null,
   "metadata": {},
   "outputs": [],
   "source": []
  },
  {
   "cell_type": "code",
   "execution_count": null,
   "metadata": {},
   "outputs": [],
   "source": []
  },
  {
   "cell_type": "code",
   "execution_count": null,
   "metadata": {},
   "outputs": [],
   "source": []
  },
  {
   "cell_type": "code",
   "execution_count": null,
   "metadata": {},
   "outputs": [],
   "source": []
  },
  {
   "cell_type": "code",
   "execution_count": null,
   "metadata": {},
   "outputs": [],
   "source": []
  },
  {
   "cell_type": "code",
   "execution_count": null,
   "metadata": {},
   "outputs": [],
   "source": []
  },
  {
   "cell_type": "code",
   "execution_count": null,
   "metadata": {},
   "outputs": [],
   "source": []
  }
 ],
 "metadata": {
  "kernelspec": {
   "display_name": "Python 3",
   "language": "python",
   "name": "python3"
  },
  "language_info": {
   "codemirror_mode": {
    "name": "ipython",
    "version": 3
   },
   "file_extension": ".py",
   "mimetype": "text/x-python",
   "name": "python",
   "nbconvert_exporter": "python",
   "pygments_lexer": "ipython3",
   "version": "3.7.5"
  }
 },
 "nbformat": 4,
 "nbformat_minor": 2
}
