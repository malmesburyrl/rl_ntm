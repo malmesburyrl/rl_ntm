{
 "cells": [
  {
   "cell_type": "code",
   "execution_count": 47,
   "metadata": {},
   "outputs": [
    {
     "name": "stdout",
     "output_type": "stream",
     "text": [
      "The autoreload extension is already loaded. To reload it, use:\n",
      "  %reload_ext autoreload\n"
     ]
    }
   ],
   "source": [
    "#IPython magic to reload libraries\n",
    "%load_ext autoreload\n",
    "%autoreload 2\n",
    "\n",
    "# Extra code so Juypter doesn't crash on mac os\n",
    "import os\n",
    "os.environ['KMP_DUPLICATE_LIB_OK']='True'"
   ]
  },
  {
   "cell_type": "code",
   "execution_count": 48,
   "metadata": {},
   "outputs": [],
   "source": [
    "import sys\n",
    "sys.path.insert(0, 'utils')  # noqa\n",
    "\n",
    "import numpy as np\n",
    "import gym\n",
    "import ntm\n",
    "import interfaces"
   ]
  },
  {
   "cell_type": "code",
   "execution_count": 49,
   "metadata": {},
   "outputs": [],
   "source": [
    "# Training Params\n",
    "train_iter = 1\n",
    "batch_size = 1\n"
   ]
  },
  {
   "cell_type": "code",
   "execution_count": 50,
   "metadata": {},
   "outputs": [
    {
     "name": "stdout",
     "output_type": "stream",
     "text": [
      "Tuple(Discrete(2), Discrete(2), Discrete(5))\n",
      "Discrete(6)\n"
     ]
    }
   ],
   "source": [
    "# Task\n",
    "env = gym.make('Copy-v0')\n",
    "env = env.unwrapped\n",
    "print(env.action_space)\n",
    "print(env.observation_space)\n"
   ]
  },
  {
   "cell_type": "code",
   "execution_count": 269,
   "metadata": {},
   "outputs": [
    {
     "name": "stdout",
     "output_type": "stream",
     "text": [
      "Model: \"model_24\"\n",
      "__________________________________________________________________________________________________\n",
      "Layer (type)                    Output Shape         Param #     Connected to                     \n",
      "==================================================================================================\n",
      "tape_input (InputLayer)         [(None, 1)]          0                                            \n",
      "__________________________________________________________________________________________________\n",
      "memory_input (InputLayer)       [(None, 10)]         0                                            \n",
      "__________________________________________________________________________________________________\n",
      "concatenate_29 (Concatenate)    (None, 11)           0           tape_input[0][0]                 \n",
      "                                                                 memory_input[0][0]               \n",
      "__________________________________________________________________________________________________\n",
      "dense_51 (Dense)                (None, 32)           384         concatenate_29[0][0]             \n",
      "__________________________________________________________________________________________________\n",
      "dense_52 (Dense)                (None, 32)           1056        dense_51[0][0]                   \n",
      "__________________________________________________________________________________________________\n",
      "output_content (Dense)          (None, 5)            165         dense_52[0][0]                   \n",
      "__________________________________________________________________________________________________\n",
      "output_bool (Dense)             (None, 2)            66          dense_52[0][0]                   \n",
      "__________________________________________________________________________________________________\n",
      "input_head_control (Dense)      (None, 2)            66          dense_52[0][0]                   \n",
      "__________________________________________________________________________________________________\n",
      "memory_head_control (Dense)     (None, 2)            66          dense_52[0][0]                   \n",
      "__________________________________________________________________________________________________\n",
      "memory_content (Dense)          (None, 10)           330         dense_52[0][0]                   \n",
      "==================================================================================================\n",
      "Total params: 2,133\n",
      "Trainable params: 2,133\n",
      "Non-trainable params: 0\n",
      "__________________________________________________________________________________________________\n"
     ]
    }
   ],
   "source": [
    "# Controller \n",
    "Controller = ntm.NTM()"
   ]
  },
  {
   "cell_type": "code",
   "execution_count": 335,
   "metadata": {},
   "outputs": [
    {
     "name": "stdout",
     "output_type": "stream",
     "text": [
      "tf.Tensor([[0.0228377  0.9309435  0.01390508 0.01920357 0.01311021]], shape=(1, 5), dtype=float32)\n",
      "Loss:  [0.0715567]\n",
      "WARNING:tensorflow:Gradients do not exist for variables ['output_bool_24/kernel:0', 'output_bool_24/bias:0', 'input_head_control_24/kernel:0', 'input_head_control_24/bias:0', 'memory_head_control_24/kernel:0', 'memory_head_control_24/bias:0', 'memory_content_24/kernel:0', 'memory_content_24/bias:0'] when minimizing the loss.\n",
      "(1, 2)\n"
     ]
    },
    {
     "data": {
      "text/plain": [
       "(<tf.Tensor: id=40014, shape=(1, 1), dtype=int64, numpy=array([[1]])>,\n",
       " <tf.Tensor: id=40017, shape=(1, 1), dtype=int64, numpy=array([[1]])>,\n",
       " <tf.Tensor: id=40020, shape=(1, 1), dtype=int64, numpy=array([[1]])>)"
      ]
     },
     "execution_count": 335,
     "metadata": {},
     "output_type": "execute_result"
    }
   ],
   "source": [
    "Controller.run(tape_input=1, output_target=1)"
   ]
  },
  {
   "cell_type": "code",
   "execution_count": 352,
   "metadata": {},
   "outputs": [
    {
     "name": "stdout",
     "output_type": "stream",
     "text": [
      "Total length of input instance: 4, step: 0\n",
      "==========================================\n",
      "Observation Tape    :   \u001b[42mA\u001b[0mBEC  \n",
      "Output Tape         :   \n",
      "Targets             :   ABEC  \n",
      "\n",
      "\n",
      "\n",
      "\n",
      "\n",
      "\n",
      "Loss:  [2.2568672]\n",
      "(1, 2)\n",
      "(1, 1, 1)\n",
      "Total length of input instance: 4, step: 1\n",
      "==========================================\n",
      "Observation Tape    :   A\u001b[42mB\u001b[0mEC  \n",
      "Output Tape         :   \u001b[41mB\u001b[0m\n",
      "Targets             :   ABEC  \n",
      "\n",
      "Current reward      :   -0.500\n",
      "Cumulative reward   :   -0.500\n",
      "Action              :   Tuple(move over input: right,\n",
      "                              write to the output tape: True,\n",
      "                              prediction: B)\n"
     ]
    }
   ],
   "source": [
    "for i in range(train_iter):\n",
    "    \n",
    "    # Collect experince using current policy/controller\n",
    "    for j in range(batch_size):\n",
    "        \n",
    "        episode_steps = 0\n",
    "        observation = env.reset()\n",
    "        env.render()\n",
    "\n",
    "        while True:\n",
    "            episode_steps += 1\n",
    "            \n",
    "            target = env.target[env.write_head_position]\n",
    "            outputs = Controller.run(tape_input=observation, output_target=target)\n",
    "\n",
    "            output_content = outputs[0] # Which character to write (ignored if the above sub-action is 0) \n",
    "            output_control = outputs[1] #  Whether to write to the output tape [\"no\",\"yes\"] = [0,1]\n",
    "            input_control = outputs[2] # Direction to move the read head [\"left\",\"right\"] = [0,1]\n",
    "\n",
    "            actions = (input_control, output_control, output_content)\n",
    "            print(actions)\n",
    "            observation, reward, done, info = env.step(actions)\n",
    "            env.render()\n",
    "\n",
    "            if done:\n",
    "                done = False\n",
    "                break\n",
    "        "
   ]
  },
  {
   "cell_type": "code",
   "execution_count": null,
   "metadata": {},
   "outputs": [],
   "source": []
  },
  {
   "cell_type": "code",
   "execution_count": null,
   "metadata": {},
   "outputs": [],
   "source": []
  }
 ],
 "metadata": {
  "kernelspec": {
   "display_name": "Python 3",
   "language": "python",
   "name": "python3"
  },
  "language_info": {
   "codemirror_mode": {
    "name": "ipython",
    "version": 3
   },
   "file_extension": ".py",
   "mimetype": "text/x-python",
   "name": "python",
   "nbconvert_exporter": "python",
   "pygments_lexer": "ipython3",
   "version": "3.7.5"
  }
 },
 "nbformat": 4,
 "nbformat_minor": 2
}
